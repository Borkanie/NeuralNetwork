{
 "cells": [
  {
   "cell_type": "markdown",
   "metadata": {},
   "source": [
    "# Demo for K3D library to help me understand it\n",
    "\n",
    "I have no rights to it and just want to use it for better visualization.\n",
    "First we start with imports numpi and widgets nothing fancy."
   ]
  },
  {
   "cell_type": "code",
   "execution_count": 9,
   "metadata": {},
   "outputs": [],
   "source": [
    "import k3d\n",
    "import numpy as np\n",
    "from numpy import sin,cos,pi\n",
    "from ipywidgets import interact, IntSlider"
   ]
  },
  {
   "cell_type": "markdown",
   "metadata": {},
   "source": [
    "Then we move to the interestin part. \n",
    "In the next segment we create the plot object"
   ]
  },
  {
   "cell_type": "code",
   "execution_count": 10,
   "metadata": {},
   "outputs": [],
   "source": [
    "plot = k3d.plot()"
   ]
  },
  {
   "cell_type": "markdown",
   "metadata": {},
   "source": [
    "now we create vectors and add it to the plot"
   ]
  },
  {
   "cell_type": "code",
   "execution_count": 11,
   "metadata": {},
   "outputs": [],
   "source": [
    "plt_arrow = k3d.vectors([0,0,0],[1,1,1])\n",
    "plot += plt_arrow"
   ]
  },
  {
   "cell_type": "markdown",
   "metadata": {},
   "source": [
    "Now we fill it with objects taken form the widget. To add an element on the camera we can sue the '+=' operator."
   ]
  },
  {
   "cell_type": "code",
   "execution_count": 12,
   "metadata": {},
   "outputs": [],
   "source": [
    "N = 100\n",
    "cam_traj = [np.array([-sin(phi), -cos(phi), phi*0.15],dtype=np.float32) for phi in np.linspace(0,2*pi,N)]\n",
    "object_traj = [np.array([sin(phi),-1+cos(phi)+sin(2*phi),0.03*phi],dtype=np.float32) for phi in np.linspace(0,2*pi,N)]\n",
    "\n",
    "plt_cam_traj = k3d.line(cam_traj ,shader='simple')\n",
    "plt_object_traj = k3d.line(object_traj, color=0xff0000,shader='mesh')\n",
    "\n",
    "plt_cam_pos = k3d.points([[0, -1, 0]],point_size=0.1,shader='mesh')\n",
    "plt_object_pos = k3d.points([[0, -1, 0]],color=0xff0000,point_size=0.1,shader='mesh')\n",
    "\n",
    "plot += plt_cam_traj\n",
    "plot += plt_object_traj\n",
    "plot += plt_object_pos\n",
    "plot += plt_cam_pos"
   ]
  },
  {
   "cell_type": "markdown",
   "metadata": {},
   "source": [
    "Using this library we can interact with the 3d images.\n",
    "Height is actually set up in pixels."
   ]
  },
  {
   "cell_type": "code",
   "execution_count": 13,
   "metadata": {},
   "outputs": [
    {
     "data": {
      "application/vnd.jupyter.widget-view+json": {
       "model_id": "8b46c9014a42431ba7018353c9782394",
       "version_major": 2,
       "version_minor": 0
      },
      "text/plain": [
       "Plot(antialias=3, axes=['x', 'y', 'z'], axes_helper=1.0, axes_helper_colors=[16711680, 65280, 255], background…"
      ]
     },
     "execution_count": 13,
     "metadata": {},
     "output_type": "execute_result"
    }
   ],
   "source": [
    "plot.height = 300\n",
    "plot"
   ]
  },
  {
   "cell_type": "code",
   "execution_count": 14,
   "metadata": {},
   "outputs": [],
   "source": [
    "plot.camera_auto_fit = False"
   ]
  },
  {
   "cell_type": "markdown",
   "metadata": {},
   "source": [
    "Here we create a slider to move trough prerecorded position, not that usefull when you are free to move inside of it."
   ]
  },
  {
   "cell_type": "code",
   "execution_count": 15,
   "metadata": {},
   "outputs": [
    {
     "data": {
      "application/vnd.jupyter.widget-view+json": {
       "model_id": "40fb1c8093404845aba54dfedc77be4f",
       "version_major": 2,
       "version_minor": 0
      },
      "text/plain": [
       "interactive(children=(IntSlider(value=80, description='ith', max=99), Output()), _dom_classes=('widget-interac…"
      ]
     },
     "metadata": {},
     "output_type": "display_data"
    }
   ],
   "source": [
    "@interact(ith=IntSlider(value=80,min=0,max=N-1))\n",
    "def g(ith):\n",
    "    cam_pos = cam_traj[ith]\n",
    "    object_pos = object_traj[ith]\n",
    "    plot.camera = cam_pos.tolist()+\\\n",
    "                  object_pos.tolist()+\\\n",
    "                  [0,0,1] \n",
    "    \n",
    "    cam_dir = np.array(object_pos,dtype=np.float32) - cam_pos\n",
    "   \n",
    "    plt_cam_pos.positions = [cam_pos]\n",
    "    plt_object_pos.positions = [object_pos]\n",
    "\n",
    "    plt_arrow.origins = cam_pos\n",
    "    plt_arrow.vectors = cam_dir"
   ]
  },
  {
   "cell_type": "code",
   "execution_count": 16,
   "metadata": {},
   "outputs": [],
   "source": [
    "plot.camera_reset()"
   ]
  }
 ],
 "metadata": {
  "kernelspec": {
   "display_name": "Python 3.10.8 ('env': venv)",
   "language": "python",
   "name": "python3"
  },
  "language_info": {
   "codemirror_mode": {
    "name": "ipython",
    "version": 3
   },
   "file_extension": ".py",
   "mimetype": "text/x-python",
   "name": "python",
   "nbconvert_exporter": "python",
   "pygments_lexer": "ipython3",
   "version": "3.10.8"
  },
  "orig_nbformat": 4,
  "vscode": {
   "interpreter": {
    "hash": "9fba37761dd6c697c24963b1b3f499403e764b5a17d29572b04cca9f5b6aeb95"
   }
  }
 },
 "nbformat": 4,
 "nbformat_minor": 2
}
