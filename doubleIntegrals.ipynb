{
 "cells": [
  {
   "cell_type": "markdown",
   "metadata": {
    "tags": [
     "Presenting chapter"
    ]
   },
   "source": [
    "# Double integrals understood\n",
    "\n",
    "This notebook is meant to help us understand double integals. It is inspired by Cristphors work from:\n",
    ">https://www.youtube.com/watch?v=C-yfMjxxsz0&t=1496s\n",
    "\n",
    "Conseptually a double integral is just the volume between a surface and a plane.\n",
    "It  has positive and negative values and they represent the direction of the volume quantity relative to the plane norm. At first we need to start with simple integrals. Given a function {f(x):R -> R} we declare the integral on a close interval $[a,b]$ as the areea between the funciton and the x-Axis of the xOy plane. \n",
    "## Example\n",
    "Given the function {f(x):R->R} \n",
    "$\\begin{equation} f(x)=(x^2+2*x+5) \\end{equation}$ and the interval \n",
    "$\\begin{equation} [a,b]=[-1,3] \\end{equation}$ we can define\n",
    "$\\begin{equation}\n",
    "\\int_{a}^{b} f(x) \\,dx = \\int_{a}^{b} (x^2+2*x+5) \\,dx\n",
    "\\end{equation}$\n"
   ]
  },
  {
   "cell_type": "code",
   "execution_count": 43,
   "metadata": {},
   "outputs": [
    {
     "data": {
      "image/png": "[encoded data removed]",
      "text/plain": [
       "<Figure size 400x200 with 1 Axes>"
      ]
     },
     "metadata": {},
     "output_type": "display_data"
    }
   ],
   "source": [
    "\n",
    "import numpy as np \n",
    "import matplotlib.pyplot as plt\n",
    "from decimal import Decimal\n",
    "\n",
    "def f(x:Decimal):\n",
    "  return pow(x,2)+2*x+5\n",
    "\n",
    "xvals = np.linspace(-1,3,100) #100 points from -1 to 3 in ndarray\n",
    "yvals = list(map(f, xvals)) #evaluate f for each point in xvals \n",
    "\n",
    "plt.rcParams[\"figure.figsize\"] = (4,2)\n",
    "fig, ax1 = plt.subplots(1, 1)\n",
    "collection = ax1.fill_between(xvals,yvals,0)\n",
    "collection.set_facecolor('BLUE')\n",
    "collection.set_edgecolor('RED')"
   ]
  },
  {
   "cell_type": "markdown",
   "metadata": {},
   "source": [
    "Here we can consider a point $X$ and a a vecinity of this point $\\Delta X$. Using this conotation we can define the arrea underneath the function as a sum of all the rectangles with a base equal to the interval $\\Delta X$ and the size equal to $f(x)$, centered aorund the points $X \\in [-1,3]$ with they're vecinities $\\Delta X$. Thus we can define the $\\int_{a}^{b} f(x) \\,dx=\\sum_{a}^{b} {f(x)*{\\Delta X}}$."
   ]
  },
  {
   "cell_type": "code",
   "execution_count": 44,
   "metadata": {},
   "outputs": [
    {
     "data": {
      "image/png": "[encoded data removed]",
      "text/plain": [
       "<Figure size 400x200 with 1 Axes>"
      ]
     },
     "metadata": {},
     "output_type": "display_data"
    }
   ],
   "source": [
    "plt.rcParams[\"figure.figsize\"] = (4,2)\n",
    "fig, ax1 = plt.subplots(1, 1)\n",
    "collection = ax1.fill_between(xvals,yvals,0)\n",
    "collection.set_facecolor('LIGHTBLUE')\n",
    "collection.set_edgecolor('BLUE')\n",
    "collection.set_hatch('|')"
   ]
  },
  {
   "cell_type": "markdown",
   "metadata": {},
   "source": [
    "We can take a small saple for our example and consider the $\\Delta X = 0.05$. This we will see how accurate this approximation is by comparing it's value to the algebraically calculated integral.\\\n",
    "$\\int_{-1}^{3} x^2+2*x+5 \\,dx = \\int_{-1}^{3} x^2 \\,dx + \\int_{-1}^{3} 2*x \\,dx + \\int_{-1}^{3} 5 \\,dx$.\\\n",
    "Now by solving each integral by itself we get:\\\n",
    "$\\int_{-1}^{3}x^2+2*x+5\\,dx=\\left.{\\cfrac{x^3}{3}}\\right|_{\\;-1}^{\\;3}+\\left.{x^2}\\right|_{\\;-1}^{\\;3}+\\left.{5*x}\\right|_{\\;-1}^{\\;3} $"
   ]
  },
  {
   "cell_type": "code",
   "execution_count": 45,
   "metadata": {},
   "outputs": [
    {
     "name": "stdout",
     "output_type": "stream",
     "text": [
      "37.333333333333336\n",
      "37.333333333333336\n"
     ]
    }
   ],
   "source": [
    "def intF(x):\n",
    "    return pow(x,3)/3+pow(x,2)+5*x\n",
    "print(intF(3)-intF(-1))\n",
    "print(112/3)"
   ]
  },
  {
   "cell_type": "markdown",
   "metadata": {},
   "source": [
    "\n",
    "$\\int_{-1}^{3}x^2+2*x+5\\,dx = (9-1/3) + (9 - 1) +( 15 - 5 ) = \\cfrac{80}{3}$\n",
    "\n"
   ]
  },
  {
   "cell_type": "markdown",
   "metadata": {},
   "source": [
    "If we are going to sue the previously defined array contianing 100 values between -1 and 3 the result would be pretty of."
   ]
  },
  {
   "cell_type": "code",
   "execution_count": 46,
   "metadata": {},
   "outputs": [
    {
     "name": "stdout",
     "output_type": "stream",
     "text": [
      "DeltaX is :0.04\n",
      "The areea is :37.44107744107744\n"
     ]
    }
   ],
   "source": [
    "xvals = np.linspace(-1,3,100) #100 points from -1 to 3 in ndarray\n",
    "yvals = list(map(f, xvals)) #evaluate f for each point in xvals \n",
    "areea = 0\n",
    "DeltaX=(xvals.item(len(xvals)-1)-xvals.item(0))/len(xvals)\n",
    "print(f\"DeltaX is :{DeltaX}\")\n",
    "for y in yvals:\n",
    "    areea = areea + abs(DeltaX * y)\n",
    "print(f\"The areea is :{areea}\")"
   ]
  },
  {
   "cell_type": "markdown",
   "metadata": {},
   "source": [
    "If we are going to increase the number of Points thus decreasing the value of Delta our approxamtion will get closer. It can be proven that when:\\\n",
    "$\\lim_{\\Delta X \\to 0} $ the sum of $\\sum_{a}^{b} {f(x)*{\\Delta X}}$ tends towards $\\int_{a}^{b} f(x) \\,dx$"
   ]
  },
  {
   "cell_type": "code",
   "execution_count": 47,
   "metadata": {},
   "outputs": [
    {
     "name": "stdout",
     "output_type": "stream",
     "text": [
      "DeltaX is :0.004\n",
      "The areea is :37.34401067734402\n"
     ]
    }
   ],
   "source": [
    "xvals = np.linspace(-1,3,1000) #1000 points from -1 to 3 in ndarray\n",
    "yvals = list(map(f, xvals)) #evaluate f for each point in xvals \n",
    "areea = 0\n",
    "DeltaX=(xvals.item(len(xvals)-1)-xvals.item(0))/len(xvals)\n",
    "print(f\"DeltaX is :{DeltaX}\")\n",
    "for y in yvals:\n",
    "    areea = areea + abs(DeltaX * y)\n",
    "print(f\"The areea is :{areea}\")"
   ]
  },
  {
   "cell_type": "markdown",
   "metadata": {},
   "source": [
    "The error remains pretty high and it can be decreased by a huge margin if we use Trapezoids insdead of rectangles. A few examples would be [Simpon's rule](https://en.wikipedia.org/wiki/Simpson%27s_rule) and [Trapezoidal rule](https://en.wikipedia.org/wiki/Trapezoidal_rule). "
   ]
  },
  {
   "cell_type": "code",
   "execution_count": 48,
   "metadata": {},
   "outputs": [
    {
     "name": "stdout",
     "output_type": "stream",
     "text": [
      "Trapezoidal area = 37.29601067734401\n",
      "Simpson area = 37.296000010688026\n"
     ]
    }
   ],
   "source": [
    "import numpy as np\n",
    "from scipy.integrate import simpson\n",
    "from numpy import trapz\n",
    "\n",
    "areea = 0\n",
    "DeltaX=(xvals.item(len(xvals)-1)-xvals.item(0))/len(xvals)\n",
    "\n",
    "# Compute the area using the composite trapezoidal rule.\n",
    "area = trapz(yvals, dx=DeltaX)\n",
    "print(\"Trapezoidal area =\", area)\n",
    "\n",
    "# Compute the area using the composite Simpson's rule.\n",
    "area = simpson(yvals, dx=DeltaX)\n",
    "print(\"Simpson area =\", area)"
   ]
  },
  {
   "cell_type": "markdown",
   "metadata": {},
   "source": [
    "# Double integrals\n",
    "They can be defined as the volume between a surface and a plane, usually the xOy plane. This plane si defined by the variables that we use as derivatives ($dx,dy$)."
   ]
  },
  {
   "cell_type": "code",
   "execution_count": 49,
   "metadata": {},
   "outputs": [
    {
     "data": {
      "application/vnd.jupyter.widget-view+json": {
       "model_id": "4647c936801b46ac918ebc9c0c560941",
       "version_major": 2,
       "version_minor": 0
      },
      "text/plain": [
       "Output()"
      ]
     },
     "metadata": {},
     "output_type": "display_data"
    }
   ],
   "source": [
    "import k3d\n",
    "from k3d.colormaps import matplotlib_color_maps\n",
    "\n",
    "def f(x, y):\n",
    "    return (np.sqrt(x ** 2 + y**2))\n",
    "\n",
    "plot = k3d.plot()\n",
    "\n",
    "x = np.linspace(-3, 3, 60,dtype=np.float32)\n",
    "y = np.linspace(-3, 3, 60,dtype=np.float32)\n",
    "\n",
    "X, Y = np.meshgrid(x, y)\n",
    "Z = f(X, Y)\n",
    "\n",
    "functionShape = k3d.surface(Z,\n",
    "                          color_map=matplotlib_color_maps.Coolwarm_r,\n",
    "                          attribute=Z, color_range=[-1, 0.5],\n",
    "                          wireframe=True,\n",
    "                          xmin=x[0], xmax=x[len(x)-1],\n",
    "                          ymin=y[0], ymax=y[len(y)-1])\n",
    "plane = k3d.surface(Z*0,\n",
    "                          color=0x006394,\n",
    "                          wireframe=True,\n",
    "                          xmin=x[0], xmax=x[len(x)-1],\n",
    "                          ymin=y[0], ymax=y[len(y)-1])\n",
    "\n",
    "plot+=functionShape\n",
    "plot+=plane\n",
    "plot.height = 300\n",
    "plot.display()"
   ]
  },
  {
   "cell_type": "markdown",
   "metadata": {},
   "source": [
    "# Example\n",
    "We will randomly choose the function ${f:R^2->R, f(x,y) = {\\sqrt{x^2+y^2}}}$ and we will try to calculate the volume underneath the inner dome. First we need to define the areea $A$ such that it sits underneath the dome: $\\{A = (x,y) \\in R^2 | x^2+y^2 <=1\\}$. \\\n",
    "Starting by this definition we can draw the volume we are really interested in:\n"
   ]
  },
  {
   "cell_type": "code",
   "execution_count": 50,
   "metadata": {},
   "outputs": [
    {
     "data": {
      "application/vnd.jupyter.widget-view+json": {
       "model_id": "41eeaee40b9849b09bfb09972db3140d",
       "version_major": 2,
       "version_minor": 0
      },
      "text/plain": [
       "Output()"
      ]
     },
     "metadata": {},
     "output_type": "display_data"
    }
   ],
   "source": [
    "plot = k3d.plot()\n",
    "x=[]\n",
    "y=[]\n",
    "for i in np.arange(-1,1,0.05):\n",
    "    for j in np.arange(-1,1,0.05):\n",
    "        if i ** 2 + j ** 2<=1.0:\n",
    "            x.append(np.float32(i))\n",
    "            y.append(np.float32(j))\n",
    "x = np.array(x)\n",
    "y = np.array(y)\n",
    "z = f(x, y)\n",
    "\n",
    "functionShape = [np.array([x[i],y[i],z[i]],dtype=np.float32) for i in range(0,len(x))]\n",
    "functionShapePoints = k3d.points(functionShape,point_size=0.1)\n",
    "\n",
    "plot+=functionShapePoints\n",
    "plot+=plane\n",
    "plot.height = 300\n",
    "plot.display()\n"
   ]
  },
  {
   "cell_type": "markdown",
   "metadata": {},
   "source": [
    "Now we want to calculate:\\\n",
    "$\\int_{A}^{ } f(x,y) dxdy$\\\n",
    "But we know that A can be defined as:\n",
    "$\\{A = (x,y) \\in R^2 | x^2+y^2 <=1\\}$ thus :\\\n",
    "$\\int_{A}^{ } f(x,y) dxdy=\\int_{-1}^{1}\\int_{-1}^{1} f(x,y) dxdy=\\int_{-1}^{1}\\int_{-1}^{1} {\\sqrt{x^2+y^2}} dxdy$\n",
    "Here we can become creative with this volume and we can calulate it as the volume of the cylinder minus the volume of the cone.\n",
    "Volume of the cylinder is:\\\n",
    "$V_{cylinder}=2*pi*r^{2}*h$\n",
    "Here we know that r = 1 , from the deifinition of A and form the image, or first derivative if you feel cocky, we canc onclude that the height of our cylinder woulb be on the edges of the circle, where $x^{2}+y^{2} = 1$ thus $h=\\sqrt{1}$\\\n",
    "Synce the volkume of the cone is just $\\cfrac{1}{3}$ the volume of the cylinder we can conclude the double integral we are looking for is $\\cfrac{2}{3}$ of the volume of the cylinder.\n"
   ]
  },
  {
   "cell_type": "code",
   "execution_count": 51,
   "metadata": {},
   "outputs": [
    {
     "name": "stdout",
     "output_type": "stream",
     "text": [
      "The volume under the graph would be around 4.1887902047863905\n"
     ]
    }
   ],
   "source": [
    "import math\n",
    "radius = 1\n",
    "height = 1\n",
    "Volume_cylinder = 2 * math.pi * radius **2 * height\n",
    "Integral = 2 / 3 * Volume_cylinder\n",
    "print(f\"The volume under the graph would be around {Integral}\")"
   ]
  }
 ],
 "metadata": {
  "kernelspec": {
   "display_name": "Python 3.10.8 ('env': venv)",
   "language": "python",
   "name": "python3"
  },
  "language_info": {
   "codemirror_mode": {
    "name": "ipython",
    "version": 3
   },
   "file_extension": ".py",
   "mimetype": "text/x-python",
   "name": "python",
   "nbconvert_exporter": "python",
   "pygments_lexer": "ipython3",
   "version": "3.10.8"
  },
  "orig_nbformat": 4,
  "vscode": {
   "interpreter": {
    "hash": "9fba37761dd6c697c24963b1b3f499403e764b5a17d29572b04cca9f5b6aeb95"
   }
  }
 },
 "nbformat": 4,
 "nbformat_minor": 2
}
